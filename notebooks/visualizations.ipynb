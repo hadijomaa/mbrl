{
 "cells": [
  {
   "cell_type": "code",
   "execution_count": 1,
   "metadata": {
    "collapsed": true,
    "ExecuteTime": {
     "start_time": "2023-04-26T20:34:30.540202Z",
     "end_time": "2023-04-26T20:34:35.601882Z"
    }
   },
   "outputs": [],
   "source": [
    "import json\n",
    "import os\n",
    "\n",
    "import numpy as np\n",
    "import pandas as pd\n",
    "import pickle\n",
    "\n",
    "from helpers import legacy_helpers"
   ]
  },
  {
   "cell_type": "code",
   "execution_count": 2,
   "outputs": [],
   "source": [
    "rootdir = \"..\"\n",
    "search_space_id = \"4796\"\n",
    "part = \"test\"\n",
    "data_directory = os.path.join(rootdir, \"hpob\")"
   ],
   "metadata": {
    "collapsed": false,
    "ExecuteTime": {
     "start_time": "2023-04-26T20:48:39.307697Z",
     "end_time": "2023-04-26T20:48:39.313416Z"
    }
   }
  },
  {
   "cell_type": "code",
   "execution_count": 6,
   "outputs": [],
   "source": [
    "# load initializations\n",
    "with open(os.path.join(data_directory, \"data\", \"bo-initializations.json\"), \"r\") as f:\n",
    "    hpob_seeds = json.load(f)[search_space_id]\n",
    "\n",
    "with open(os.path.join(data_directory, \"data\", \"hpob.json\"), \"r\") as f:\n",
    "    search_space_tasks = json.load(f)[search_space_id]\n",
    "\n",
    "with open(os.path.join(data_directory, \"results\", \"originals.pkl\"), \"rb\") as f:\n",
    "    initial_seed_results = pickle.load(f)\n",
    "\n",
    "# get part files\n",
    "with open(os.path.join(data_directory, \"splits\", f\"{part}.json\"), \"r\") as f:\n",
    "    files = json.load(f)[search_space_id]"
   ],
   "metadata": {
    "collapsed": false,
    "ExecuteTime": {
     "start_time": "2023-04-26T20:50:22.582734Z",
     "end_time": "2023-04-26T20:50:42.102557Z"
    }
   }
  },
  {
   "cell_type": "code",
   "execution_count": 7,
   "outputs": [],
   "source": [
    "single_task_methods = {\"rs\": \"Random\", \"Bohamiann\": \"Bohamiann\", \"gpy\": \"GP\", \"DNGO\": \"DNGO\",\n",
    "                       \"Deep Kernel GP\": \"Deep Kernel GP\"}\n",
    "transfer_task_methods = {\"RGPE\": \"RGPE\", \"quantile\": \"GCP+Prior\", \"DKLM\": \"DKLM\", \"FSBO\": \"FSBO\",\n",
    "                         \"DKLM (RI)\": \"DKLM (RI)\", \"ABLR\": \"ABLR\", \"TST-R\": \"TST-R\", \"TAF-R\": \"TAF-R\", }\n",
    "\n",
    "methods_to_evaluate = transfer_task_methods\n",
    "methods_to_evaluate.update(single_task_methods)"
   ],
   "metadata": {
    "collapsed": false,
    "ExecuteTime": {
     "start_time": "2023-04-26T20:50:42.105932Z",
     "end_time": "2023-04-26T20:50:42.108097Z"
    }
   }
  },
  {
   "cell_type": "code",
   "execution_count": 11,
   "outputs": [
    {
     "ename": "KeyError",
     "evalue": "'4796'",
     "output_type": "error",
     "traceback": [
      "\u001B[0;31m---------------------------------------------------------------------------\u001B[0m",
      "\u001B[0;31mKeyError\u001B[0m                                  Traceback (most recent call last)",
      "Cell \u001B[0;32mIn[11], line 20\u001B[0m\n\u001B[1;32m     17\u001B[0m task_result \u001B[38;5;241m=\u001B[39m legacy_helpers\u001B[38;5;241m.\u001B[39mget_hpo_results(results_directory\u001B[38;5;241m=\u001B[39mresults_directory, task\u001B[38;5;241m=\u001B[39mtask, search_space\u001B[38;5;241m=\u001B[39msearch_space_id, method\u001B[38;5;241m=\u001B[39mmethod, hpo_seed\u001B[38;5;241m=\u001B[39mhpo_seed)\n\u001B[1;32m     19\u001B[0m \u001B[38;5;66;03m# append initializations\u001B[39;00m\n\u001B[0;32m---> 20\u001B[0m task_results \u001B[38;5;241m=\u001B[39m \u001B[43mlegacy_helpers\u001B[49m\u001B[38;5;241;43m.\u001B[39;49m\u001B[43mappend_initialization_seeds\u001B[49m\u001B[43m(\u001B[49m\u001B[43mtask_result\u001B[49m\u001B[38;5;241;43m=\u001B[39;49m\u001B[43mtask_result\u001B[49m\u001B[43m,\u001B[49m\u001B[43m \u001B[49m\u001B[43msearch_space\u001B[49m\u001B[38;5;241;43m=\u001B[39;49m\u001B[43msearch_space_id\u001B[49m\u001B[43m,\u001B[49m\n\u001B[1;32m     21\u001B[0m \u001B[43m                                           \u001B[49m\u001B[43mhpo_seed\u001B[49m\u001B[38;5;241;43m=\u001B[39;49m\u001B[43mhpo_seed\u001B[49m\u001B[43m,\u001B[49m\u001B[43m \u001B[49m\u001B[43mtask\u001B[49m\u001B[38;5;241;43m=\u001B[39;49m\u001B[43mtask\u001B[49m\u001B[43m,\u001B[49m\u001B[43m \u001B[49m\u001B[43mdata\u001B[49m\u001B[38;5;241;43m=\u001B[39;49m\u001B[43mhpob\u001B[49m\u001B[43m)\u001B[49m\n\u001B[1;32m     23\u001B[0m \u001B[38;5;66;03m# collect method results\u001B[39;00m\n\u001B[1;32m     24\u001B[0m method_results \u001B[38;5;241m=\u001B[39m pd\u001B[38;5;241m.\u001B[39mconcat([method_results, pd\u001B[38;5;241m.\u001B[39mDataFrame(task_result, columns\u001B[38;5;241m=\u001B[39m[single_task_methods[method]])],\n\u001B[1;32m     25\u001B[0m                            axis\u001B[38;5;241m=\u001B[39m\u001B[38;5;241m1\u001B[39m)\n",
      "File \u001B[0;32m~/PycharmProjects/LookAheadHPO/helpers/legacy_helpers.py:38\u001B[0m, in \u001B[0;36mappend_initialization_seeds\u001B[0;34m(task_result, search_space, hpo_seed, task, data)\u001B[0m\n\u001B[1;32m     37\u001B[0m \u001B[38;5;28;01mdef\u001B[39;00m \u001B[38;5;21mappend_initialization_seeds\u001B[39m(task_result, search_space, hpo_seed, task, data):\n\u001B[0;32m---> 38\u001B[0m     \u001B[38;5;28;01mreturn\u001B[39;00m np\u001B[38;5;241m.\u001B[39mconcatenate([\u001B[43mdata\u001B[49m\u001B[43m[\u001B[49m\u001B[43msearch_space\u001B[49m\u001B[43m]\u001B[49m[hpo_seed][task], \u001B[38;5;241m100\u001B[39m \u001B[38;5;241m*\u001B[39m task_result])\n",
      "\u001B[0;31mKeyError\u001B[0m: '4796'"
     ]
    }
   ],
   "source": [
    "# initialize search space results\n",
    "search_space_results = []\n",
    "search_space_results_rank = []\n",
    "\n",
    "for hpo_seed in [0, 1, 2, 3, 4]:\n",
    "    # initialize seed lists\n",
    "    seed_results = []\n",
    "    seed_results_rank = []\n",
    "\n",
    "    # get individual task names\n",
    "    for task in files:\n",
    "        method_results = pd.DataFrame()\n",
    "        # iterate over methods\n",
    "        for method in methods_to_evaluate:\n",
    "            # get results directory of task\n",
    "            results_directory = legacy_helpers.get_hpo_results_directory(rootdir=data_directory,\n",
    "                                                                         search_space=search_space_id,\n",
    "                                                                         method=method, hpo_seed=hpo_seed)\n",
    "\n",
    "            # get results on task\n",
    "            task_result = legacy_helpers.get_hpo_results(results_directory=results_directory, task=task,\n",
    "                                                         search_space=search_space_id, method=method,\n",
    "                                                         hpo_seed=hpo_seed)\n",
    "            task_result = 100 * np.concatenate([initial_seed_results[search_space_id][hpo_seed][task], task_result])\n",
    "\n",
    "            # collect method results\n",
    "            method_results = pd.concat(\n",
    "                [method_results, pd.DataFrame(task_result, columns=[methods_to_evaluate[method]])], axis=1)\n",
    "\n",
    "        method_results = method_results.reindex(range(101)).fillna(0).round(6)\n",
    "        method_results_rank = method_results.rank(1, method=\"min\")\n",
    "\n",
    "        seed_results_rank.append(method_results_rank)\n",
    "        seed_results.append(method_results)\n",
    "\n",
    "    seed_results = pd.DataFrame(np.array(seed_results).mean(axis=0)[:100], columns=method_results.columns.tolist())\n",
    "    seed_results_rank = pd.DataFrame(np.array(seed_results_rank).mean(axis=0)[:100],\n",
    "                                     columns=method_results.columns.tolist())\n",
    "    search_space_results.append(seed_results)\n",
    "    search_space_results_rank.append(seed_results_rank)\n",
    "\n",
    "baselines_results_rank_std = pd.DataFrame(np.array(search_space_results_rank).std(axis=0),\n",
    "                                          columns=method_results.columns.tolist())\n",
    "baselines_results_std = pd.DataFrame(np.array(search_space_results).std(axis=0),\n",
    "                                     columns=method_results.columns.tolist())\n",
    "\n",
    "baselines_results_rank = pd.DataFrame(np.array(search_space_results_rank).mean(axis=0),\n",
    "                                      columns=method_results.columns.tolist())\n",
    "\n",
    "baselines_results = pd.DataFrame(np.array(search_space_results).mean(axis=0),\n",
    "                                 columns=method_results.columns.tolist())"
   ],
   "metadata": {
    "collapsed": false
   }
  }
 ],
 "metadata": {
  "kernelspec": {
   "display_name": "Python 3",
   "language": "python",
   "name": "python3"
  },
  "language_info": {
   "codemirror_mode": {
    "name": "ipython",
    "version": 2
   },
   "file_extension": ".py",
   "mimetype": "text/x-python",
   "name": "python",
   "nbconvert_exporter": "python",
   "pygments_lexer": "ipython2",
   "version": "2.7.6"
  }
 },
 "nbformat": 4,
 "nbformat_minor": 0
}
