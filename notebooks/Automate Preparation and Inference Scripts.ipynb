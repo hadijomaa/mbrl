{
 "cells": [
  {
   "cell_type": "code",
   "execution_count": 1,
   "metadata": {
    "collapsed": true,
    "ExecuteTime": {
     "start_time": "2023-04-18T17:44:50.570350Z",
     "end_time": "2023-04-18T17:44:52.704905Z"
    }
   },
   "outputs": [],
   "source": [
    "import pandas as pd\n",
    "import os\n",
    "rootdir = os.path.join(os.getcwd(), \"..\")"
   ]
  },
  {
   "cell_type": "code",
   "execution_count": null,
   "outputs": [],
   "source": [
    "training_protocol =\"joint\"\n",
    "horizon=5\n",
    "trajectories=100\n",
    "particles=10\n",
    "mpc=5"
   ],
   "metadata": {
    "collapsed": false
   }
  },
  {
   "cell_type": "code",
   "execution_count": null,
   "outputs": [],
   "source": [
    "template = \"python run_pets_script.py --cs_seed {cs_seed} --search_space {search_space} --horizon {horizon} --num_random_trajectories {trajectories} --num_particles {particles} --mpc_seed {mpc} --apply_lookahead {apply_lookahead} --load_pretrained {load_pretrained};\"\n",
    "# for file in  scripts/sbatch/{search_space}/joint/{pretrained_dir}/cs_seed-{cs_seed}/test/horizon-{horizon}/trajectories-{trajectories}/particles-{particles}/MPC/mpc-{mpc}/*; do msub $file;done; \"\n",
    "\n",
    "subfolder1 = f\"if [[ $load_pretrained  -eq  1 ]]; then subfolder1=pre-trained; else subfolder1=random-initialization; fi\"\n",
    "subfolder2 = f\"if [[ $apply_lookahead  -eq  1 ]]; then subfolder2=LookAhead; else subfolder2=MPC; fi\""
   ],
   "metadata": {
    "collapsed": false
   }
  },
  {
   "cell_type": "code",
   "execution_count": 32,
   "outputs": [
    {
     "name": "stdout",
     "output_type": "stream",
     "text": [
      "5636\n",
      "5859\n"
     ]
    }
   ],
   "source": [
    "for search_space in ['4796', '5527', '5636', '5859', '5860',\n",
    "                    '5891', '5906', '5965', '5970', '5971', '6766',\n",
    "                    '6767', '6794', '7607', '7609', '5889']:\n",
    "    script = \"for particles in \"\n",
    "    for particles in [10, 100, 1000]:\n",
    "        script += f\"{particles} \"\n",
    "    script += \"; do for horizon in \"\n",
    "    for horizon in [3 , 5, 10]:\n",
    "        script += f\"{horizon} \"\n",
    "    script += \"; do for trajectories in \"\n",
    "    for trajectories in [100, 250, 500]:\n",
    "        script += f\"{trajectories} \"\n",
    "    script += \"; do for apply_lookahead in \"\n",
    "    for apply_lookahead in [0, 1]:\n",
    "        script += f\"{apply_lookahead} \"\n",
    "    script += \"; do for load_pretrained in \"\n",
    "    for load_pretrained in [1, 0]:\n",
    "        script += f\"{load_pretrained} \"\n",
    "\n",
    "    try:\n",
    "        results = pd.read_csv(os.path.join(rootdir, \"collected\", f\"{search_space}-{training_protocol}.csv\"), index_col=0).transpose()\n",
    "        results[\"seeds\"] = list(map(lambda x: int(x.replace(\"seed-\",\"\")), results.index.tolist()))\n",
    "        cs_seed = int(results.sort_values(by=\"val_loss\").iloc[0][\"seeds\"])\n",
    "\n",
    "        script_prepare = script + f\"; do python run_pets_script.py --cs_seed {cs_seed} --search_space {search_space} --horizon $horizon --num_random_trajectories $trajectories --num_particles $particles --mpc_seed {mpc} --apply_lookahead $apply_lookahead --load_pretrained $load_pretrained;\"\n",
    "\n",
    "        script_prepare += \"done;done;done;done;done;\"\n",
    "        script_run = script + f\"; do {subfolder1}; {subfolder2}; for file in  scripts/sbatch/{search_space}/joint/$subfolder1/cs_seed-{cs_seed}/test/horizon-$horizon/trajectories-$trajectories/particles-$particles/$subfolder2/mpc-{mpc}/*; do msub $file;done;\"\n",
    "\n",
    "        script_run += \"done;done;done;done;done;\"\n",
    "        with open(os.path.join(rootdir, \"scripts\", \"txt_preparation\", f\"prepare_scripts_for_inference_{search_space}.txt\"), \"w\") as f:\n",
    "            f.write(script_prepare)\n",
    "\n",
    "        with open(os.path.join(rootdir, \"scripts\", \"txt_run_inference\",f\"run_scripts_for_inference_{search_space}.txt\"), \"w\") as f:\n",
    "            f.write(script_run)\n",
    "\n",
    "    except Exception as e:\n",
    "        print(search_space)\n",
    "\n"
   ],
   "metadata": {
    "collapsed": false,
    "ExecuteTime": {
     "start_time": "2023-04-18T23:52:54.676639Z",
     "end_time": "2023-04-18T23:52:54.813588Z"
    }
   }
  },
  {
   "cell_type": "code",
   "execution_count": 14,
   "outputs": [
    {
     "data": {
      "text/plain": "'for particles 10 100 1000 ; do for horizon in 3 5 10 ; do for trajectories in 100 250 500 ; do for apply_lookahead in 0 1 ; do for load_pretrained in 0 1 ; do python run_pets_script.py --cs_seed 45 --search_space 4796 --horizon $horizon --num_random_trajectories $trajectories --num_particles particles --mpc_seed 5 --apply_lookahead $apply_lookahead --load_pretrained $load_pretrained;done;done;done;done;done'"
     },
     "execution_count": 14,
     "metadata": {},
     "output_type": "execute_result"
    }
   ],
   "source": [
    "script"
   ],
   "metadata": {
    "collapsed": false,
    "ExecuteTime": {
     "start_time": "2023-04-18T23:14:51.853231Z",
     "end_time": "2023-04-18T23:14:51.859245Z"
    }
   }
  }
 ],
 "metadata": {
  "kernelspec": {
   "display_name": "Python 3",
   "language": "python",
   "name": "python3"
  },
  "language_info": {
   "codemirror_mode": {
    "name": "ipython",
    "version": 2
   },
   "file_extension": ".py",
   "mimetype": "text/x-python",
   "name": "python",
   "nbconvert_exporter": "python",
   "pygments_lexer": "ipython2",
   "version": "2.7.6"
  }
 },
 "nbformat": 4,
 "nbformat_minor": 0
}
